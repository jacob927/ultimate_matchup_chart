{
 "cells": [
  {
   "cell_type": "code",
   "execution_count": 1,
   "id": "01ed4e08",
   "metadata": {
    "_cell_guid": "b1076dfc-b9ad-4769-8c92-a6c4dae69d19",
    "_uuid": "8f2839f25d086af736a60e9eeb907d3b93b6e0e5",
    "execution": {
     "iopub.execute_input": "2024-01-31T18:30:42.864122Z",
     "iopub.status.busy": "2024-01-31T18:30:42.863364Z",
     "iopub.status.idle": "2024-01-31T18:30:44.072627Z",
     "shell.execute_reply": "2024-01-31T18:30:44.070872Z"
    },
    "papermill": {
     "duration": 1.228761,
     "end_time": "2024-01-31T18:30:44.075825",
     "exception": false,
     "start_time": "2024-01-31T18:30:42.847064",
     "status": "completed"
    },
    "tags": []
   },
   "outputs": [
    {
     "name": "stdout",
     "output_type": "stream",
     "text": [
      "/kaggle/input/super-smash-bros-database/smash4_player_database.db\n",
      "/kaggle/input/super-smash-bros-database/melee_player_database.db\n",
      "/kaggle/input/super-smash-bros-database/ultimate_player_database.db\n",
      "/kaggle/input/super-smash-bros-database/smash4_player_database/players.csv\n",
      "/kaggle/input/super-smash-bros-database/smash4_player_database/ranking_seasons.csv\n",
      "/kaggle/input/super-smash-bros-database/smash4_player_database/ranking.csv\n",
      "/kaggle/input/super-smash-bros-database/smash4_player_database/sets.csv\n",
      "/kaggle/input/super-smash-bros-database/smash4_player_database/tournament_info.csv\n",
      "/kaggle/input/super-smash-bros-database/melee_player_database/players.csv\n",
      "/kaggle/input/super-smash-bros-database/melee_player_database/ranking_seasons.csv\n",
      "/kaggle/input/super-smash-bros-database/melee_player_database/ranking.csv\n",
      "/kaggle/input/super-smash-bros-database/melee_player_database/sets.csv\n",
      "/kaggle/input/super-smash-bros-database/melee_player_database/tournament_info.csv\n",
      "/kaggle/input/super-smash-bros-database/ultimate_player_database/players.csv\n",
      "/kaggle/input/super-smash-bros-database/ultimate_player_database/ranking_seasons.csv\n",
      "/kaggle/input/super-smash-bros-database/ultimate_player_database/ranking.csv\n",
      "/kaggle/input/super-smash-bros-database/ultimate_player_database/sets.csv\n",
      "/kaggle/input/super-smash-bros-database/ultimate_player_database/tournament_info.csv\n"
     ]
    }
   ],
   "source": [
    "# This Python 3 environment comes with many helpful analytics libraries installed\n",
    "# It is defined by the kaggle/python Docker image: https://github.com/kaggle/docker-python\n",
    "# For example, here's several helpful packages to load\n",
    "\n",
    "import numpy as np # linear algebra\n",
    "import pandas as pd # data processing, CSV file I/O (e.g. pd.read_csv)\n",
    "\n",
    "# Input data files are available in the read-only \"../input/\" directory\n",
    "# For example, running this (by clicking run or pressing Shift+Enter) will list all files under the input directory\n",
    "\n",
    "import os\n",
    "for dirname, _, filenames in os.walk('/kaggle/input'):\n",
    "    for filename in filenames:\n",
    "        print(os.path.join(dirname, filename))\n",
    "\n",
    "# You can write up to 20GB to the current directory (/kaggle/working/) that gets preserved as output when you create a version using \"Save & Run All\" \n",
    "# You can also write temporary files to /kaggle/temp/, but they won't be saved outside of the current session"
   ]
  },
  {
   "cell_type": "code",
   "execution_count": 2,
   "id": "5fe71e0f",
   "metadata": {
    "execution": {
     "iopub.execute_input": "2024-01-31T18:30:44.103456Z",
     "iopub.status.busy": "2024-01-31T18:30:44.102819Z",
     "iopub.status.idle": "2024-01-31T18:31:00.329402Z",
     "shell.execute_reply": "2024-01-31T18:31:00.327988Z"
    },
    "papermill": {
     "duration": 16.244271,
     "end_time": "2024-01-31T18:31:00.332876",
     "exception": false,
     "start_time": "2024-01-31T18:30:44.088605",
     "status": "completed"
    },
    "tags": []
   },
   "outputs": [
    {
     "name": "stderr",
     "output_type": "stream",
     "text": [
      "/tmp/ipykernel_20/3615646048.py:1: DtypeWarning: Columns (2,9,15) have mixed types. Specify dtype option on import or set low_memory=False.\n",
      "  players = pd.read_csv('/kaggle/input/super-smash-bros-database/ultimate_player_database/players.csv')\n"
     ]
    },
    {
     "data": {
      "text/html": [
       "<div>\n",
       "<style scoped>\n",
       "    .dataframe tbody tr th:only-of-type {\n",
       "        vertical-align: middle;\n",
       "    }\n",
       "\n",
       "    .dataframe tbody tr th {\n",
       "        vertical-align: top;\n",
       "    }\n",
       "\n",
       "    .dataframe thead th {\n",
       "        text-align: right;\n",
       "    }\n",
       "</style>\n",
       "<table border=\"1\" class=\"dataframe\">\n",
       "  <thead>\n",
       "    <tr style=\"text-align: right;\">\n",
       "      <th></th>\n",
       "      <th>index</th>\n",
       "      <th>game</th>\n",
       "      <th>player_id</th>\n",
       "      <th>tag</th>\n",
       "      <th>all_tags</th>\n",
       "      <th>prefixes</th>\n",
       "      <th>social</th>\n",
       "      <th>country</th>\n",
       "      <th>state</th>\n",
       "      <th>region</th>\n",
       "      <th>c_country</th>\n",
       "      <th>c_state</th>\n",
       "      <th>c_region</th>\n",
       "      <th>placings</th>\n",
       "      <th>characters</th>\n",
       "      <th>alias</th>\n",
       "    </tr>\n",
       "  </thead>\n",
       "  <tbody>\n",
       "    <tr>\n",
       "      <th>0</th>\n",
       "      <td>0</td>\n",
       "      <td>ultimate</td>\n",
       "      <td>185155</td>\n",
       "      <td>Axiom XL</td>\n",
       "      <td>[\"Axiom XL\", \"Axiom_XL\", \"Axiom xl\"]</td>\n",
       "      <td>[]</td>\n",
       "      <td>{\"twitter\": [\"Axiom_SSB\"]}</td>\n",
       "      <td>United States</td>\n",
       "      <td>MA</td>\n",
       "      <td>NaN</td>\n",
       "      <td>US</td>\n",
       "      <td>MA</td>\n",
       "      <td>Waltham</td>\n",
       "      <td>[{\"key\": \"one-up-ultimate-62722\", \"placing\": 1...</td>\n",
       "      <td>{\"ultimate/wolf\": 28, \"ultimate/wario\": 374, \"...</td>\n",
       "      <td>NaN</td>\n",
       "    </tr>\n",
       "    <tr>\n",
       "      <th>1</th>\n",
       "      <td>1</td>\n",
       "      <td>ultimate</td>\n",
       "      <td>67666</td>\n",
       "      <td>DM</td>\n",
       "      <td>[\"DM\", \"DM888\", \"DiamondMiner888\"]</td>\n",
       "      <td>[\"FH\", \"Timor\", \"Sinai\", \"TT\"]</td>\n",
       "      <td>{\"twitter\": [\"DM_SSB\", \"DM888_SSB\"]}</td>\n",
       "      <td>United States</td>\n",
       "      <td>MA</td>\n",
       "      <td>NaN</td>\n",
       "      <td>US</td>\n",
       "      <td>MA</td>\n",
       "      <td>Waltham</td>\n",
       "      <td>[{\"key\": \"one-up-ultimate-62722\", \"placing\": 2...</td>\n",
       "      <td>{\"ultimate/pikachu\": 623, \"ultimate/pokemontra...</td>\n",
       "      <td>NaN</td>\n",
       "    </tr>\n",
       "    <tr>\n",
       "      <th>2</th>\n",
       "      <td>2</td>\n",
       "      <td>ultimate</td>\n",
       "      <td>1395261</td>\n",
       "      <td>Dolan</td>\n",
       "      <td>[\"Dolan\", \"TT | Dolan\", \"JD\", \"TT | JD\"]</td>\n",
       "      <td>[\"TT\"]</td>\n",
       "      <td>{\"twitter\": [\"JD_sbu\"]}</td>\n",
       "      <td>United States</td>\n",
       "      <td>MA</td>\n",
       "      <td>NaN</td>\n",
       "      <td>US</td>\n",
       "      <td>MA</td>\n",
       "      <td>Boston</td>\n",
       "      <td>[{\"key\": \"one-up-ultimate-62722\", \"placing\": 5...</td>\n",
       "      <td>{\"ultimate/piranhaplant\": 91, \"ultimate/kingkr...</td>\n",
       "      <td>NaN</td>\n",
       "    </tr>\n",
       "    <tr>\n",
       "      <th>3</th>\n",
       "      <td>3</td>\n",
       "      <td>ultimate</td>\n",
       "      <td>749484</td>\n",
       "      <td>hatt</td>\n",
       "      <td>[\"hatt\", \"hatt3349\", \"Hatt\"]</td>\n",
       "      <td>[\"TT\", \"mcE\"]</td>\n",
       "      <td>{\"twitter\": [\"hatt33349\"]}</td>\n",
       "      <td>United States</td>\n",
       "      <td>MA</td>\n",
       "      <td>NaN</td>\n",
       "      <td>US</td>\n",
       "      <td>MA</td>\n",
       "      <td>Boston</td>\n",
       "      <td>[{\"key\": \"one-up-ultimate-62722\", \"placing\": 3...</td>\n",
       "      <td>{\"ultimate/ganondorf\": 24, \"ultimate/ken\": 281...</td>\n",
       "      <td>NaN</td>\n",
       "    </tr>\n",
       "    <tr>\n",
       "      <th>4</th>\n",
       "      <td>4</td>\n",
       "      <td>ultimate</td>\n",
       "      <td>1404303</td>\n",
       "      <td>Sylviris</td>\n",
       "      <td>[\"Sylviris\", \"Anglicae\"]</td>\n",
       "      <td>[]</td>\n",
       "      <td>{\"twitter\": []}</td>\n",
       "      <td>United States</td>\n",
       "      <td>MA</td>\n",
       "      <td>NaN</td>\n",
       "      <td>US</td>\n",
       "      <td>MA</td>\n",
       "      <td>Morgantown</td>\n",
       "      <td>[{\"key\": \"one-up-ultimate-62722\", \"placing\": 4...</td>\n",
       "      <td>{\"ultimate/zelda\": 582, \"ultimate/wolf\": 1, \"u...</td>\n",
       "      <td>NaN</td>\n",
       "    </tr>\n",
       "  </tbody>\n",
       "</table>\n",
       "</div>"
      ],
      "text/plain": [
       "   index      game player_id       tag  \\\n",
       "0      0  ultimate    185155  Axiom XL   \n",
       "1      1  ultimate     67666        DM   \n",
       "2      2  ultimate   1395261     Dolan   \n",
       "3      3  ultimate    749484      hatt   \n",
       "4      4  ultimate   1404303  Sylviris   \n",
       "\n",
       "                                   all_tags                        prefixes  \\\n",
       "0      [\"Axiom XL\", \"Axiom_XL\", \"Axiom xl\"]                              []   \n",
       "1        [\"DM\", \"DM888\", \"DiamondMiner888\"]  [\"FH\", \"Timor\", \"Sinai\", \"TT\"]   \n",
       "2  [\"Dolan\", \"TT | Dolan\", \"JD\", \"TT | JD\"]                          [\"TT\"]   \n",
       "3              [\"hatt\", \"hatt3349\", \"Hatt\"]                   [\"TT\", \"mcE\"]   \n",
       "4                  [\"Sylviris\", \"Anglicae\"]                              []   \n",
       "\n",
       "                                 social        country state region c_country  \\\n",
       "0            {\"twitter\": [\"Axiom_SSB\"]}  United States    MA    NaN        US   \n",
       "1  {\"twitter\": [\"DM_SSB\", \"DM888_SSB\"]}  United States    MA    NaN        US   \n",
       "2               {\"twitter\": [\"JD_sbu\"]}  United States    MA    NaN        US   \n",
       "3            {\"twitter\": [\"hatt33349\"]}  United States    MA    NaN        US   \n",
       "4                       {\"twitter\": []}  United States    MA    NaN        US   \n",
       "\n",
       "  c_state    c_region                                           placings  \\\n",
       "0      MA     Waltham  [{\"key\": \"one-up-ultimate-62722\", \"placing\": 1...   \n",
       "1      MA     Waltham  [{\"key\": \"one-up-ultimate-62722\", \"placing\": 2...   \n",
       "2      MA      Boston  [{\"key\": \"one-up-ultimate-62722\", \"placing\": 5...   \n",
       "3      MA      Boston  [{\"key\": \"one-up-ultimate-62722\", \"placing\": 3...   \n",
       "4      MA  Morgantown  [{\"key\": \"one-up-ultimate-62722\", \"placing\": 4...   \n",
       "\n",
       "                                          characters alias  \n",
       "0  {\"ultimate/wolf\": 28, \"ultimate/wario\": 374, \"...   NaN  \n",
       "1  {\"ultimate/pikachu\": 623, \"ultimate/pokemontra...   NaN  \n",
       "2  {\"ultimate/piranhaplant\": 91, \"ultimate/kingkr...   NaN  \n",
       "3  {\"ultimate/ganondorf\": 24, \"ultimate/ken\": 281...   NaN  \n",
       "4  {\"ultimate/zelda\": 582, \"ultimate/wolf\": 1, \"u...   NaN  "
      ]
     },
     "execution_count": 2,
     "metadata": {},
     "output_type": "execute_result"
    }
   ],
   "source": [
    "players = pd.read_csv('/kaggle/input/super-smash-bros-database/ultimate_player_database/players.csv')\n",
    "players.head()"
   ]
  },
  {
   "cell_type": "code",
   "execution_count": 3,
   "id": "a9992981",
   "metadata": {
    "execution": {
     "iopub.execute_input": "2024-01-31T18:31:00.362810Z",
     "iopub.status.busy": "2024-01-31T18:31:00.362304Z",
     "iopub.status.idle": "2024-01-31T18:31:01.125052Z",
     "shell.execute_reply": "2024-01-31T18:31:01.123602Z"
    },
    "papermill": {
     "duration": 0.781572,
     "end_time": "2024-01-31T18:31:01.128125",
     "exception": false,
     "start_time": "2024-01-31T18:31:00.346553",
     "status": "completed"
    },
    "tags": []
   },
   "outputs": [
    {
     "name": "stdout",
     "output_type": "stream",
     "text": [
      "<class 'pandas.core.frame.DataFrame'>\n",
      "RangeIndex: 512105 entries, 0 to 512104\n",
      "Data columns (total 16 columns):\n",
      " #   Column      Non-Null Count   Dtype \n",
      "---  ------      --------------   ----- \n",
      " 0   index       512105 non-null  int64 \n",
      " 1   game        512105 non-null  object\n",
      " 2   player_id   512105 non-null  object\n",
      " 3   tag         512064 non-null  object\n",
      " 4   all_tags    512105 non-null  object\n",
      " 5   prefixes    512105 non-null  object\n",
      " 6   social      512105 non-null  object\n",
      " 7   country     294493 non-null  object\n",
      " 8   state       151310 non-null  object\n",
      " 9   region      1151 non-null    object\n",
      " 10  c_country   428181 non-null  object\n",
      " 11  c_state     421082 non-null  object\n",
      " 12  c_region    410096 non-null  object\n",
      " 13  placings    512105 non-null  object\n",
      " 14  characters  512105 non-null  object\n",
      " 15  alias       885 non-null     object\n",
      "dtypes: int64(1), object(15)\n",
      "memory usage: 62.5+ MB\n",
      "None\n"
     ]
    }
   ],
   "source": [
    "print(players.info())"
   ]
  },
  {
   "cell_type": "code",
   "execution_count": 4,
   "id": "de2ae11a",
   "metadata": {
    "execution": {
     "iopub.execute_input": "2024-01-31T18:31:01.156983Z",
     "iopub.status.busy": "2024-01-31T18:31:01.156493Z",
     "iopub.status.idle": "2024-01-31T18:31:01.262259Z",
     "shell.execute_reply": "2024-01-31T18:31:01.260563Z"
    },
    "papermill": {
     "duration": 0.123967,
     "end_time": "2024-01-31T18:31:01.265445",
     "exception": false,
     "start_time": "2024-01-31T18:31:01.141478",
     "status": "completed"
    },
    "tags": []
   },
   "outputs": [
    {
     "name": "stdout",
     "output_type": "stream",
     "text": [
      "         index      game player_id     tag    all_tags prefixes  \\\n",
      "234496  234496  ultimate   1817494  BowWow  [\"BowWow\"]       []   \n",
      "241901  241901  ultimate   1928551  BowWow  [\"BowWow\"]       []   \n",
      "268991  268991  ultimate   1972090  BowWow  [\"BowWow\"]       []   \n",
      "\n",
      "                 social        country state region c_country  c_state  \\\n",
      "234496  {\"twitter\": []}  United States    ME    NaN        US       MA   \n",
      "241901  {\"twitter\": []}        England   NaN    NaN        GB  England   \n",
      "268991  {\"twitter\": []}  United States   NaN    NaN        US       UT   \n",
      "\n",
      "             c_region                                           placings  \\\n",
      "234496        Waltham  [{\"key\": \"le-veon-bell-and-hungrybox-present-t...   \n",
      "241901  Wolverhampton  [{\"key\": \"lockdown-32__ultimate-singles\", \"pla...   \n",
      "268991          Provo  [{\"key\": \"lan-king-weekly-8-4-2020__singles\", ...   \n",
      "\n",
      "                                               characters alias  \n",
      "234496  {\"ultimate/bowserjr\": 261, \"ultimate/bowser\": ...   NaN  \n",
      "241901  {\"ultimate/banjokazooie\": 4, \"ultimate/drmario...   NaN  \n",
      "268991                                                 \"\"   NaN  \n"
     ]
    }
   ],
   "source": [
    "print(players[players['tag'] == \"BowWow\"])"
   ]
  },
  {
   "cell_type": "code",
   "execution_count": 5,
   "id": "4ef5d138",
   "metadata": {
    "execution": {
     "iopub.execute_input": "2024-01-31T18:31:01.295886Z",
     "iopub.status.busy": "2024-01-31T18:31:01.295345Z",
     "iopub.status.idle": "2024-01-31T18:32:25.218518Z",
     "shell.execute_reply": "2024-01-31T18:32:25.217245Z"
    },
    "papermill": {
     "duration": 83.941817,
     "end_time": "2024-01-31T18:32:25.221401",
     "exception": false,
     "start_time": "2024-01-31T18:31:01.279584",
     "status": "completed"
    },
    "tags": []
   },
   "outputs": [
    {
     "name": "stderr",
     "output_type": "stream",
     "text": [
      "/tmp/ipykernel_20/2817032956.py:1: DtypeWarning: Columns (4,5,6) have mixed types. Specify dtype option on import or set low_memory=False.\n",
      "  sets = pd.read_csv('/kaggle/input/super-smash-bros-database/ultimate_player_database/sets.csv')\n"
     ]
    },
    {
     "data": {
      "text/html": [
       "<div>\n",
       "<style scoped>\n",
       "    .dataframe tbody tr th:only-of-type {\n",
       "        vertical-align: middle;\n",
       "    }\n",
       "\n",
       "    .dataframe tbody tr th {\n",
       "        vertical-align: top;\n",
       "    }\n",
       "\n",
       "    .dataframe thead th {\n",
       "        text-align: right;\n",
       "    }\n",
       "</style>\n",
       "<table border=\"1\" class=\"dataframe\">\n",
       "  <thead>\n",
       "    <tr style=\"text-align: right;\">\n",
       "      <th></th>\n",
       "      <th>index</th>\n",
       "      <th>key</th>\n",
       "      <th>game</th>\n",
       "      <th>tournament_key</th>\n",
       "      <th>winner_id</th>\n",
       "      <th>p1_id</th>\n",
       "      <th>p2_id</th>\n",
       "      <th>p1_score</th>\n",
       "      <th>p2_score</th>\n",
       "      <th>location_names</th>\n",
       "      <th>bracket_name</th>\n",
       "      <th>bracket_order</th>\n",
       "      <th>set_order</th>\n",
       "      <th>best_of</th>\n",
       "      <th>game_data</th>\n",
       "    </tr>\n",
       "  </thead>\n",
       "  <tbody>\n",
       "    <tr>\n",
       "      <th>0</th>\n",
       "      <td>0</td>\n",
       "      <td>281065202</td>\n",
       "      <td>ultimate</td>\n",
       "      <td>one-up-ultimate-62722</td>\n",
       "      <td>2476877</td>\n",
       "      <td>2476877</td>\n",
       "      <td>2635043</td>\n",
       "      <td>2</td>\n",
       "      <td>1</td>\n",
       "      <td>[\"W1\", \"Winners 1\", \"Winners Round 1\"]</td>\n",
       "      <td>NaN</td>\n",
       "      <td>1</td>\n",
       "      <td>A</td>\n",
       "      <td>3.0</td>\n",
       "      <td>[]</td>\n",
       "    </tr>\n",
       "    <tr>\n",
       "      <th>1</th>\n",
       "      <td>1</td>\n",
       "      <td>281065203</td>\n",
       "      <td>ultimate</td>\n",
       "      <td>one-up-ultimate-62722</td>\n",
       "      <td>329522</td>\n",
       "      <td>329522</td>\n",
       "      <td>2865842</td>\n",
       "      <td>2</td>\n",
       "      <td>0</td>\n",
       "      <td>[\"W1\", \"Winners 1\", \"Winners Round 1\"]</td>\n",
       "      <td>NaN</td>\n",
       "      <td>1</td>\n",
       "      <td>B</td>\n",
       "      <td>3.0</td>\n",
       "      <td>[]</td>\n",
       "    </tr>\n",
       "    <tr>\n",
       "      <th>2</th>\n",
       "      <td>2</td>\n",
       "      <td>281065204</td>\n",
       "      <td>ultimate</td>\n",
       "      <td>one-up-ultimate-62722</td>\n",
       "      <td>135734</td>\n",
       "      <td>challonge__the_gahmur</td>\n",
       "      <td>135734</td>\n",
       "      <td>0</td>\n",
       "      <td>2</td>\n",
       "      <td>[\"W1\", \"Winners 1\", \"Winners Round 1\"]</td>\n",
       "      <td>NaN</td>\n",
       "      <td>1</td>\n",
       "      <td>C</td>\n",
       "      <td>3.0</td>\n",
       "      <td>[]</td>\n",
       "    </tr>\n",
       "    <tr>\n",
       "      <th>3</th>\n",
       "      <td>3</td>\n",
       "      <td>281065205</td>\n",
       "      <td>ultimate</td>\n",
       "      <td>one-up-ultimate-62722</td>\n",
       "      <td>25985</td>\n",
       "      <td>25985</td>\n",
       "      <td>C174671730</td>\n",
       "      <td>2</td>\n",
       "      <td>0</td>\n",
       "      <td>[\"W1\", \"Winners 1\", \"Winners Round 1\"]</td>\n",
       "      <td>NaN</td>\n",
       "      <td>1</td>\n",
       "      <td>D</td>\n",
       "      <td>3.0</td>\n",
       "      <td>[]</td>\n",
       "    </tr>\n",
       "    <tr>\n",
       "      <th>4</th>\n",
       "      <td>4</td>\n",
       "      <td>281065206</td>\n",
       "      <td>ultimate</td>\n",
       "      <td>one-up-ultimate-62722</td>\n",
       "      <td>C174659933</td>\n",
       "      <td>C174659933</td>\n",
       "      <td>challonge__PiersonG33</td>\n",
       "      <td>2</td>\n",
       "      <td>0</td>\n",
       "      <td>[\"W1\", \"Winners 1\", \"Winners Round 1\"]</td>\n",
       "      <td>NaN</td>\n",
       "      <td>1</td>\n",
       "      <td>E</td>\n",
       "      <td>3.0</td>\n",
       "      <td>[]</td>\n",
       "    </tr>\n",
       "  </tbody>\n",
       "</table>\n",
       "</div>"
      ],
      "text/plain": [
       "   index        key      game         tournament_key   winner_id  \\\n",
       "0      0  281065202  ultimate  one-up-ultimate-62722     2476877   \n",
       "1      1  281065203  ultimate  one-up-ultimate-62722      329522   \n",
       "2      2  281065204  ultimate  one-up-ultimate-62722      135734   \n",
       "3      3  281065205  ultimate  one-up-ultimate-62722       25985   \n",
       "4      4  281065206  ultimate  one-up-ultimate-62722  C174659933   \n",
       "\n",
       "                   p1_id                  p2_id  p1_score  p2_score  \\\n",
       "0                2476877                2635043         2         1   \n",
       "1                 329522                2865842         2         0   \n",
       "2  challonge__the_gahmur                 135734         0         2   \n",
       "3                  25985             C174671730         2         0   \n",
       "4             C174659933  challonge__PiersonG33         2         0   \n",
       "\n",
       "                           location_names bracket_name  bracket_order  \\\n",
       "0  [\"W1\", \"Winners 1\", \"Winners Round 1\"]          NaN              1   \n",
       "1  [\"W1\", \"Winners 1\", \"Winners Round 1\"]          NaN              1   \n",
       "2  [\"W1\", \"Winners 1\", \"Winners Round 1\"]          NaN              1   \n",
       "3  [\"W1\", \"Winners 1\", \"Winners Round 1\"]          NaN              1   \n",
       "4  [\"W1\", \"Winners 1\", \"Winners Round 1\"]          NaN              1   \n",
       "\n",
       "  set_order  best_of game_data  \n",
       "0         A      3.0        []  \n",
       "1         B      3.0        []  \n",
       "2         C      3.0        []  \n",
       "3         D      3.0        []  \n",
       "4         E      3.0        []  "
      ]
     },
     "execution_count": 5,
     "metadata": {},
     "output_type": "execute_result"
    }
   ],
   "source": [
    "sets = pd.read_csv('/kaggle/input/super-smash-bros-database/ultimate_player_database/sets.csv')\n",
    "sets.head()"
   ]
  },
  {
   "cell_type": "code",
   "execution_count": 6,
   "id": "f7afd2a9",
   "metadata": {
    "execution": {
     "iopub.execute_input": "2024-01-31T18:32:25.251331Z",
     "iopub.status.busy": "2024-01-31T18:32:25.250791Z",
     "iopub.status.idle": "2024-01-31T18:32:29.067128Z",
     "shell.execute_reply": "2024-01-31T18:32:29.065501Z"
    },
    "papermill": {
     "duration": 3.835107,
     "end_time": "2024-01-31T18:32:29.070341",
     "exception": false,
     "start_time": "2024-01-31T18:32:25.235234",
     "status": "completed"
    },
    "tags": []
   },
   "outputs": [
    {
     "name": "stdout",
     "output_type": "stream",
     "text": [
      "34.54545454545455\n"
     ]
    }
   ],
   "source": [
    "total_sets = len(sets[(sets['p1_id'] == 1817494) | (sets['p2_id'] == 1817494)])\n",
    "wins = len(sets[sets['winner_id'] == 1817494])\n",
    "win_percent = wins / total_sets * 100\n",
    "print(win_percent)"
   ]
  },
  {
   "cell_type": "code",
   "execution_count": 7,
   "id": "5cbf249c",
   "metadata": {
    "execution": {
     "iopub.execute_input": "2024-01-31T18:32:29.102038Z",
     "iopub.status.busy": "2024-01-31T18:32:29.101540Z",
     "iopub.status.idle": "2024-01-31T18:32:31.640433Z",
     "shell.execute_reply": "2024-01-31T18:32:31.639088Z"
    },
    "papermill": {
     "duration": 2.557637,
     "end_time": "2024-01-31T18:32:31.643411",
     "exception": false,
     "start_time": "2024-01-31T18:32:29.085774",
     "status": "completed"
    },
    "tags": []
   },
   "outputs": [
    {
     "name": "stdout",
     "output_type": "stream",
     "text": [
      "           index           key      game  \\\n",
      "1884323  1884323  gg__28833855  ultimate   \n",
      "1884346  1884346  gg__28834065  ultimate   \n",
      "1884354  1884354  gg__28834094  ultimate   \n",
      "1884358  1884358  gg__28834102  ultimate   \n",
      "1894698  1894698  gg__28851789  ultimate   \n",
      "...          ...           ...       ...   \n",
      "6454436  6454436  gg__51835931  ultimate   \n",
      "7085594  7085594  gg__55075226  ultimate   \n",
      "7085619  7085619  gg__55075294  ultimate   \n",
      "7095942  7095942  gg__55078669  ultimate   \n",
      "7095948  7095948  gg__55078695  ultimate   \n",
      "\n",
      "                                            tournament_key winner_id  \\\n",
      "1884323  le-veon-bell-and-hungrybox-present-the-box__th...   1800744   \n",
      "1884346  le-veon-bell-and-hungrybox-present-the-box__th...   1817494   \n",
      "1884354  le-veon-bell-and-hungrybox-present-the-box__th...   1817494   \n",
      "1884358  le-veon-bell-and-hungrybox-present-the-box__th...   1440849   \n",
      "1894698                 hotel-rumble-6-1__ultimate-singles   1362532   \n",
      "...                                                    ...       ...   \n",
      "6454436  game-underground-ultimate-weekly-9-13-22__ssbu...    152422   \n",
      "7085594     game-underground-weekly-12-13-22__ssbu-singles   2358344   \n",
      "7085619     game-underground-weekly-12-13-22__ssbu-singles   1120290   \n",
      "7095942  game-underground-weekly-12-13-22__ssbu-redemption   1079232   \n",
      "7095948  game-underground-weekly-12-13-22__ssbu-redemption   1620865   \n",
      "\n",
      "            p1_id      p2_id  p1_score  p2_score  \\\n",
      "1884323   1800744    1817494         2         0   \n",
      "1884346   1817494    1802920         2         0   \n",
      "1884354    421056    1817494        -1         0   \n",
      "1884358   1440849    1817494         2         0   \n",
      "1894698   1362532    1817494         2         0   \n",
      "...           ...        ...       ...       ...   \n",
      "6454436  152422.0  1817494.0         2         1   \n",
      "7085594   2358344  1817494.0         2         0   \n",
      "7085619   1120290  1817494.0         2         0   \n",
      "7095942   1079232  1817494.0         0        -1   \n",
      "7095948   1817494  1620865.0        -1         0   \n",
      "\n",
      "                                            location_names bracket_name  \\\n",
      "1884323             [\"W1\", \"Winners 1\", \"Winners Round 1\"]      Stage 1   \n",
      "1884346               [\"L1\", \"Losers 1\", \"Losers Round 1\"]      Stage 1   \n",
      "1884354               [\"L2\", \"Losers 2\", \"Losers Round 2\"]      Stage 1   \n",
      "1884358               [\"L3\", \"Losers 3\", \"Losers Round 3\"]      Stage 1   \n",
      "1894698             [\"W2\", \"Winners 2\", \"Winners Round 2\"]      Bracket   \n",
      "...                                                    ...          ...   \n",
      "6454436               [\"L2\", \"Losers 2\", \"Losers Round 2\"]      Bracket   \n",
      "7085594             [\"W1\", \"Winners 1\", \"Winners Round 1\"]      Bracket   \n",
      "7085619               [\"L1\", \"Losers 1\", \"Losers Round 1\"]      Bracket   \n",
      "7095942  [\"WQF\", \"Winners Quarters\", \"Winners Quarter-F...      Bracket   \n",
      "7095948               [\"L1\", \"Losers 1\", \"Losers Round 1\"]      Bracket   \n",
      "\n",
      "         bracket_order set_order  best_of  \\\n",
      "1884323              1         O      3.0   \n",
      "1884346              1        AO      3.0   \n",
      "1884354              1        AW      3.0   \n",
      "1884358              1        BA      3.0   \n",
      "1894698              2         I      3.0   \n",
      "...                ...       ...      ...   \n",
      "6454436              1        AT      3.0   \n",
      "7085594              1         E      3.0   \n",
      "7085619              1        AD      3.0   \n",
      "7095942              1         F      3.0   \n",
      "7095948              1         L      3.0   \n",
      "\n",
      "                                                 game_data  \n",
      "1884323  [{\"winner_id\": 1800744, \"loser_id\": 1817494, \"...  \n",
      "1884346  [{\"winner_id\": 1817494, \"loser_id\": 1802920, \"...  \n",
      "1884354                                                 []  \n",
      "1884358  [{\"winner_id\": 1440849, \"loser_id\": 1817494, \"...  \n",
      "1894698  [{\"winner_id\": 1362532, \"loser_id\": 1817494, \"...  \n",
      "...                                                    ...  \n",
      "6454436                                                 []  \n",
      "7085594                                                 []  \n",
      "7085619                                                 []  \n",
      "7095942                                                 []  \n",
      "7095948                                                 []  \n",
      "\n",
      "[220 rows x 15 columns]\n"
     ]
    }
   ],
   "source": [
    "my_sets = sets[(sets['p1_id'] == 1817494) | (sets['p2_id'] == 1817494)]\n",
    "print(my_sets)"
   ]
  },
  {
   "cell_type": "code",
   "execution_count": 8,
   "id": "48691d0c",
   "metadata": {
    "execution": {
     "iopub.execute_input": "2024-01-31T18:32:31.673927Z",
     "iopub.status.busy": "2024-01-31T18:32:31.673505Z",
     "iopub.status.idle": "2024-01-31T18:32:33.949261Z",
     "shell.execute_reply": "2024-01-31T18:32:33.947312Z"
    },
    "papermill": {
     "duration": 2.294154,
     "end_time": "2024-01-31T18:32:33.952542",
     "exception": false,
     "start_time": "2024-01-31T18:32:31.658388",
     "status": "completed"
    },
    "tags": []
   },
   "outputs": [
    {
     "name": "stdout",
     "output_type": "stream",
     "text": [
      "[{\"winner_id\": \"543328\", \"loser_id\": \"Sunbaby\", \"winner_score\": \"2\", \"loser_score\": 0, \"winner_char\": \"ultimate/joker\", \"loser_char\": \"ultimate/mario\", \"stage\": \"Battlefield\"}, {\"winner_id\": \"543328\", \"loser_id\": \"Sunbaby\", \"winner_score\": \"2\", \"loser_score\": 0, \"winner_char\": \"ultimate/joker\", \"loser_char\": \"ultimate/drmario\", \"stage\": \"Yoshi's Story\"}]\n"
     ]
    }
   ],
   "source": [
    "game_data = sets[sets['game_data'] != '[]']\n",
    "print(game_data['game_data'].iloc[0])"
   ]
  },
  {
   "cell_type": "code",
   "execution_count": 9,
   "id": "5647d754",
   "metadata": {
    "execution": {
     "iopub.execute_input": "2024-01-31T18:32:33.984129Z",
     "iopub.status.busy": "2024-01-31T18:32:33.983646Z",
     "iopub.status.idle": "2024-01-31T18:32:33.992928Z",
     "shell.execute_reply": "2024-01-31T18:32:33.991298Z"
    },
    "papermill": {
     "duration": 0.028534,
     "end_time": "2024-01-31T18:32:33.995894",
     "exception": false,
     "start_time": "2024-01-31T18:32:33.967360",
     "status": "completed"
    },
    "tags": []
   },
   "outputs": [
    {
     "name": "stdout",
     "output_type": "stream",
     "text": [
      "[{\"winner_id\": 1440849, \"loser_id\": 1817494, \"winner_score\": null, \"loser_score\": null, \"winner_char\": \"ultimate/yoshi\", \"loser_char\": \"ultimate/bowserjr\", \"stage\": \"Pok\\u00e9mon Stadium 2\"}, {\"winner_id\": 1440849, \"loser_id\": 1817494, \"winner_score\": null, \"loser_score\": null, \"winner_char\": \"ultimate/yoshi\", \"loser_char\": \"ultimate/bowserjr\", \"stage\": \"Town & City\"}]\n"
     ]
    }
   ],
   "source": [
    "my_sets = my_sets[my_sets['game_data'] != '[]']\n",
    "print(my_sets['game_data'].iloc[2])"
   ]
  },
  {
   "cell_type": "code",
   "execution_count": 10,
   "id": "09102ba4",
   "metadata": {
    "execution": {
     "iopub.execute_input": "2024-01-31T18:32:34.026933Z",
     "iopub.status.busy": "2024-01-31T18:32:34.025550Z",
     "iopub.status.idle": "2024-01-31T18:32:34.032582Z",
     "shell.execute_reply": "2024-01-31T18:32:34.031202Z"
    },
    "papermill": {
     "duration": 0.026613,
     "end_time": "2024-01-31T18:32:34.036510",
     "exception": false,
     "start_time": "2024-01-31T18:32:34.009897",
     "status": "completed"
    },
    "tags": []
   },
   "outputs": [
    {
     "name": "stdout",
     "output_type": "stream",
     "text": [
      "7792822\n"
     ]
    }
   ],
   "source": [
    "print(len(sets))"
   ]
  },
  {
   "cell_type": "code",
   "execution_count": 11,
   "id": "dfa02ca3",
   "metadata": {
    "execution": {
     "iopub.execute_input": "2024-01-31T18:32:34.069855Z",
     "iopub.status.busy": "2024-01-31T18:32:34.069339Z",
     "iopub.status.idle": "2024-01-31T18:32:36.589411Z",
     "shell.execute_reply": "2024-01-31T18:32:36.587611Z"
    },
    "papermill": {
     "duration": 2.542168,
     "end_time": "2024-01-31T18:32:36.593763",
     "exception": false,
     "start_time": "2024-01-31T18:32:34.051595",
     "status": "completed"
    },
    "tags": []
   },
   "outputs": [
    {
     "name": "stdout",
     "output_type": "stream",
     "text": [
      "2517239\n"
     ]
    }
   ],
   "source": [
    "print(len(sets[sets['game_data'] != '[]']))"
   ]
  },
  {
   "cell_type": "code",
   "execution_count": 12,
   "id": "600d6228",
   "metadata": {
    "execution": {
     "iopub.execute_input": "2024-01-31T18:32:36.633664Z",
     "iopub.status.busy": "2024-01-31T18:32:36.633031Z",
     "iopub.status.idle": "2024-01-31T18:32:36.663542Z",
     "shell.execute_reply": "2024-01-31T18:32:36.661231Z"
    },
    "papermill": {
     "duration": 0.053733,
     "end_time": "2024-01-31T18:32:36.666650",
     "exception": false,
     "start_time": "2024-01-31T18:32:36.612917",
     "status": "completed"
    },
    "tags": []
   },
   "outputs": [
    {
     "data": {
      "text/html": [
       "<div>\n",
       "<style scoped>\n",
       "    .dataframe tbody tr th:only-of-type {\n",
       "        vertical-align: middle;\n",
       "    }\n",
       "\n",
       "    .dataframe tbody tr th {\n",
       "        vertical-align: top;\n",
       "    }\n",
       "\n",
       "    .dataframe thead th {\n",
       "        text-align: right;\n",
       "    }\n",
       "</style>\n",
       "<table border=\"1\" class=\"dataframe\">\n",
       "  <thead>\n",
       "    <tr style=\"text-align: right;\">\n",
       "      <th></th>\n",
       "      <th>index</th>\n",
       "      <th>game</th>\n",
       "      <th>ranking_name</th>\n",
       "      <th>priority</th>\n",
       "      <th>region</th>\n",
       "      <th>seasons</th>\n",
       "      <th>tournaments</th>\n",
       "      <th>icon</th>\n",
       "    </tr>\n",
       "  </thead>\n",
       "  <tbody>\n",
       "    <tr>\n",
       "      <th>0</th>\n",
       "      <td>0</td>\n",
       "      <td>ultimate</td>\n",
       "      <td>PGRU</td>\n",
       "      <td>0</td>\n",
       "      <td>world</td>\n",
       "      <td>[\"1\", \"2\"]</td>\n",
       "      <td>[]</td>\n",
       "      <td>pgr</td>\n",
       "    </tr>\n",
       "  </tbody>\n",
       "</table>\n",
       "</div>"
      ],
      "text/plain": [
       "   index      game ranking_name  priority region     seasons tournaments icon\n",
       "0      0  ultimate         PGRU         0  world  [\"1\", \"2\"]          []  pgr"
      ]
     },
     "execution_count": 12,
     "metadata": {},
     "output_type": "execute_result"
    }
   ],
   "source": [
    "ranking = pd.read_csv('/kaggle/input/super-smash-bros-database/ultimate_player_database/ranking.csv')\n",
    "ranking.head()"
   ]
  },
  {
   "cell_type": "code",
   "execution_count": 13,
   "id": "516ef00e",
   "metadata": {
    "execution": {
     "iopub.execute_input": "2024-01-31T18:32:36.702824Z",
     "iopub.status.busy": "2024-01-31T18:32:36.702319Z",
     "iopub.status.idle": "2024-01-31T18:32:36.707846Z",
     "shell.execute_reply": "2024-01-31T18:32:36.706610Z"
    },
    "papermill": {
     "duration": 0.026921,
     "end_time": "2024-01-31T18:32:36.710360",
     "exception": false,
     "start_time": "2024-01-31T18:32:36.683439",
     "status": "completed"
    },
    "tags": []
   },
   "outputs": [],
   "source": [
    "import json"
   ]
  },
  {
   "cell_type": "code",
   "execution_count": 14,
   "id": "ad25feab",
   "metadata": {
    "execution": {
     "iopub.execute_input": "2024-01-31T18:32:36.745283Z",
     "iopub.status.busy": "2024-01-31T18:32:36.744681Z",
     "iopub.status.idle": "2024-01-31T18:36:06.145812Z",
     "shell.execute_reply": "2024-01-31T18:36:06.142197Z"
    },
    "papermill": {
     "duration": 209.425368,
     "end_time": "2024-01-31T18:36:06.153058",
     "exception": false,
     "start_time": "2024-01-31T18:32:36.727690",
     "status": "completed"
    },
    "tags": []
   },
   "outputs": [],
   "source": [
    "game_counts = {}\n",
    "\n",
    "\n",
    "for i in range(len(sets)):\n",
    "    data_list = json.loads(sets['game_data'].iloc[i])\n",
    "    for game in data_list:\n",
    "        if game['winner_char'] is None or game['loser_char'] is None:\n",
    "            pass\n",
    "        else:\n",
    "            characters = game['winner_char'] + game['loser_char']\n",
    "            if characters in game_counts:\n",
    "                game_counts[characters] += 1\n",
    "            else:\n",
    "                game_counts[characters] = 1\n",
    "\n"
   ]
  },
  {
   "cell_type": "code",
   "execution_count": 15,
   "id": "a005092d",
   "metadata": {
    "execution": {
     "iopub.execute_input": "2024-01-31T18:36:06.192118Z",
     "iopub.status.busy": "2024-01-31T18:36:06.191621Z",
     "iopub.status.idle": "2024-01-31T18:36:06.224208Z",
     "shell.execute_reply": "2024-01-31T18:36:06.222918Z"
    },
    "papermill": {
     "duration": 0.054484,
     "end_time": "2024-01-31T18:36:06.227858",
     "exception": false,
     "start_time": "2024-01-31T18:36:06.173374",
     "status": "completed"
    },
    "tags": []
   },
   "outputs": [
    {
     "data": {
      "text/html": [
       "<div>\n",
       "<style scoped>\n",
       "    .dataframe tbody tr th:only-of-type {\n",
       "        vertical-align: middle;\n",
       "    }\n",
       "\n",
       "    .dataframe tbody tr th {\n",
       "        vertical-align: top;\n",
       "    }\n",
       "\n",
       "    .dataframe thead th {\n",
       "        text-align: right;\n",
       "    }\n",
       "</style>\n",
       "<table border=\"1\" class=\"dataframe\">\n",
       "  <thead>\n",
       "    <tr style=\"text-align: right;\">\n",
       "      <th></th>\n",
       "      <th>matchup</th>\n",
       "      <th>count</th>\n",
       "    </tr>\n",
       "  </thead>\n",
       "  <tbody>\n",
       "    <tr>\n",
       "      <th>0</th>\n",
       "      <td>ultimate/jokerultimate/mario</td>\n",
       "      <td>2781</td>\n",
       "    </tr>\n",
       "    <tr>\n",
       "      <th>1</th>\n",
       "      <td>ultimate/jokerultimate/drmario</td>\n",
       "      <td>827</td>\n",
       "    </tr>\n",
       "    <tr>\n",
       "      <th>2</th>\n",
       "      <td>ultimate/iceclimbersultimate/pikachu</td>\n",
       "      <td>488</td>\n",
       "    </tr>\n",
       "    <tr>\n",
       "      <th>3</th>\n",
       "      <td>ultimate/warioultimate/joker</td>\n",
       "      <td>1662</td>\n",
       "    </tr>\n",
       "    <tr>\n",
       "      <th>4</th>\n",
       "      <td>ultimate/lucinaultimate/wario</td>\n",
       "      <td>631</td>\n",
       "    </tr>\n",
       "  </tbody>\n",
       "</table>\n",
       "</div>"
      ],
      "text/plain": [
       "                                matchup  count\n",
       "0          ultimate/jokerultimate/mario   2781\n",
       "1        ultimate/jokerultimate/drmario    827\n",
       "2  ultimate/iceclimbersultimate/pikachu    488\n",
       "3          ultimate/warioultimate/joker   1662\n",
       "4         ultimate/lucinaultimate/wario    631"
      ]
     },
     "execution_count": 15,
     "metadata": {},
     "output_type": "execute_result"
    }
   ],
   "source": [
    "matchups = pd.DataFrame(list(game_counts.items()), columns=['matchup', 'count'])\n",
    "matchups.head()"
   ]
  },
  {
   "cell_type": "code",
   "execution_count": 16,
   "id": "10338610",
   "metadata": {
    "execution": {
     "iopub.execute_input": "2024-01-31T18:36:06.260005Z",
     "iopub.status.busy": "2024-01-31T18:36:06.259568Z",
     "iopub.status.idle": "2024-01-31T18:36:06.312057Z",
     "shell.execute_reply": "2024-01-31T18:36:06.310453Z"
    },
    "papermill": {
     "duration": 0.072298,
     "end_time": "2024-01-31T18:36:06.315186",
     "exception": false,
     "start_time": "2024-01-31T18:36:06.242888",
     "status": "completed"
    },
    "tags": []
   },
   "outputs": [
    {
     "name": "stdout",
     "output_type": "stream",
     "text": [
      "<class 'pandas.core.frame.DataFrame'>\n",
      "RangeIndex: 7569 entries, 0 to 7568\n",
      "Data columns (total 3 columns):\n",
      " #   Column  Non-Null Count  Dtype \n",
      "---  ------  --------------  ----- \n",
      " 0   count   7569 non-null   int64 \n",
      " 1   winner  7569 non-null   object\n",
      " 2   loser   7569 non-null   object\n",
      "dtypes: int64(1), object(2)\n",
      "memory usage: 177.5+ KB\n"
     ]
    }
   ],
   "source": [
    "\n",
    "split_columns = matchups['matchup'].str.slice(start=9).str.split('ultimate/', expand=True)\n",
    "split_columns.columns = ['winner', 'loser']\n",
    "matchups=matchups.iloc[:,:2]\n",
    "\n",
    "matchups = pd.concat([matchups, split_columns], axis=1)\n",
    "\n",
    "matchups.drop('matchup', axis=1, inplace=True)\n",
    "matchups.info()\n"
   ]
  },
  {
   "cell_type": "code",
   "execution_count": 17,
   "id": "e338bf5d",
   "metadata": {
    "execution": {
     "iopub.execute_input": "2024-01-31T18:36:06.346331Z",
     "iopub.status.busy": "2024-01-31T18:36:06.345921Z",
     "iopub.status.idle": "2024-01-31T18:36:06.362446Z",
     "shell.execute_reply": "2024-01-31T18:36:06.360794Z"
    },
    "papermill": {
     "duration": 0.035262,
     "end_time": "2024-01-31T18:36:06.364958",
     "exception": false,
     "start_time": "2024-01-31T18:36:06.329696",
     "status": "completed"
    },
    "tags": []
   },
   "outputs": [
    {
     "name": "stdout",
     "output_type": "stream",
     "text": [
      "<class 'pandas.core.frame.DataFrame'>\n",
      "RangeIndex: 7569 entries, 0 to 7568\n",
      "Data columns (total 3 columns):\n",
      " #   Column  Non-Null Count  Dtype \n",
      "---  ------  --------------  ----- \n",
      " 0   count   7569 non-null   int64 \n",
      " 1   winner  7569 non-null   object\n",
      " 2   loser   7569 non-null   object\n",
      "dtypes: int64(1), object(2)\n",
      "memory usage: 177.5+ KB\n"
     ]
    }
   ],
   "source": [
    "matchups.info()"
   ]
  },
  {
   "cell_type": "code",
   "execution_count": 18,
   "id": "3d78fa3e",
   "metadata": {
    "execution": {
     "iopub.execute_input": "2024-01-31T18:36:06.396631Z",
     "iopub.status.busy": "2024-01-31T18:36:06.395980Z",
     "iopub.status.idle": "2024-01-31T18:36:06.414870Z",
     "shell.execute_reply": "2024-01-31T18:36:06.413120Z"
    },
    "papermill": {
     "duration": 0.037785,
     "end_time": "2024-01-31T18:36:06.417341",
     "exception": false,
     "start_time": "2024-01-31T18:36:06.379556",
     "status": "completed"
    },
    "tags": []
   },
   "outputs": [
    {
     "name": "stdout",
     "output_type": "stream",
     "text": [
      "<class 'pandas.core.frame.DataFrame'>\n",
      "Index: 7396 entries, 0 to 7568\n",
      "Data columns (total 3 columns):\n",
      " #   Column  Non-Null Count  Dtype \n",
      "---  ------  --------------  ----- \n",
      " 0   count   7396 non-null   int64 \n",
      " 1   winner  7396 non-null   object\n",
      " 2   loser   7396 non-null   object\n",
      "dtypes: int64(1), object(2)\n",
      "memory usage: 231.1+ KB\n"
     ]
    }
   ],
   "source": [
    "matchups = matchups[~((matchups['winner'] == 'random') | (matchups['loser'] == 'random'))]\n",
    "matchups.info()"
   ]
  },
  {
   "cell_type": "code",
   "execution_count": 19,
   "id": "a7e864ea",
   "metadata": {
    "execution": {
     "iopub.execute_input": "2024-01-31T18:36:06.577682Z",
     "iopub.status.busy": "2024-01-31T18:36:06.577283Z",
     "iopub.status.idle": "2024-01-31T18:36:06.595148Z",
     "shell.execute_reply": "2024-01-31T18:36:06.593805Z"
    },
    "papermill": {
     "duration": 0.16576,
     "end_time": "2024-01-31T18:36:06.598165",
     "exception": false,
     "start_time": "2024-01-31T18:36:06.432405",
     "status": "completed"
    },
    "tags": []
   },
   "outputs": [
    {
     "name": "stdout",
     "output_type": "stream",
     "text": [
      "<class 'pandas.core.frame.DataFrame'>\n",
      "Index: 7310 entries, 0 to 7568\n",
      "Data columns (total 3 columns):\n",
      " #   Column  Non-Null Count  Dtype \n",
      "---  ------  --------------  ----- \n",
      " 0   count   7310 non-null   int64 \n",
      " 1   winner  7310 non-null   object\n",
      " 2   loser   7310 non-null   object\n",
      "dtypes: int64(1), object(2)\n",
      "memory usage: 228.4+ KB\n"
     ]
    }
   ],
   "source": [
    "matchups = matchups[~(matchups['winner'] == matchups['loser'])]\n",
    "matchups.info()"
   ]
  },
  {
   "cell_type": "code",
   "execution_count": 20,
   "id": "610a81d6",
   "metadata": {
    "execution": {
     "iopub.execute_input": "2024-01-31T18:36:06.631437Z",
     "iopub.status.busy": "2024-01-31T18:36:06.631034Z",
     "iopub.status.idle": "2024-01-31T18:36:06.645638Z",
     "shell.execute_reply": "2024-01-31T18:36:06.644369Z"
    },
    "papermill": {
     "duration": 0.034141,
     "end_time": "2024-01-31T18:36:06.648165",
     "exception": false,
     "start_time": "2024-01-31T18:36:06.614024",
     "status": "completed"
    },
    "tags": []
   },
   "outputs": [
    {
     "data": {
      "text/html": [
       "<div>\n",
       "<style scoped>\n",
       "    .dataframe tbody tr th:only-of-type {\n",
       "        vertical-align: middle;\n",
       "    }\n",
       "\n",
       "    .dataframe tbody tr th {\n",
       "        vertical-align: top;\n",
       "    }\n",
       "\n",
       "    .dataframe thead th {\n",
       "        text-align: right;\n",
       "    }\n",
       "</style>\n",
       "<table border=\"1\" class=\"dataframe\">\n",
       "  <thead>\n",
       "    <tr style=\"text-align: right;\">\n",
       "      <th></th>\n",
       "      <th>count</th>\n",
       "      <th>winner</th>\n",
       "      <th>loser</th>\n",
       "    </tr>\n",
       "  </thead>\n",
       "  <tbody>\n",
       "    <tr>\n",
       "      <th>6</th>\n",
       "      <td>2691</td>\n",
       "      <td>ness</td>\n",
       "      <td>donkeykong</td>\n",
       "    </tr>\n",
       "    <tr>\n",
       "      <th>125</th>\n",
       "      <td>1121</td>\n",
       "      <td>ness</td>\n",
       "      <td>robin</td>\n",
       "    </tr>\n",
       "    <tr>\n",
       "      <th>131</th>\n",
       "      <td>706</td>\n",
       "      <td>ness</td>\n",
       "      <td>iceclimbers</td>\n",
       "    </tr>\n",
       "    <tr>\n",
       "      <th>132</th>\n",
       "      <td>890</td>\n",
       "      <td>ness</td>\n",
       "      <td>darkpit</td>\n",
       "    </tr>\n",
       "    <tr>\n",
       "      <th>134</th>\n",
       "      <td>3050</td>\n",
       "      <td>ness</td>\n",
       "      <td>captainfalcon</td>\n",
       "    </tr>\n",
       "  </tbody>\n",
       "</table>\n",
       "</div>"
      ],
      "text/plain": [
       "     count winner          loser\n",
       "6     2691   ness     donkeykong\n",
       "125   1121   ness          robin\n",
       "131    706   ness    iceclimbers\n",
       "132    890   ness        darkpit\n",
       "134   3050   ness  captainfalcon"
      ]
     },
     "execution_count": 20,
     "metadata": {},
     "output_type": "execute_result"
    }
   ],
   "source": [
    "ness = pd.DataFrame(matchups[matchups['winner'] == 'ness'])\n",
    "ness.head()"
   ]
  },
  {
   "cell_type": "code",
   "execution_count": 21,
   "id": "8ecfa59b",
   "metadata": {
    "execution": {
     "iopub.execute_input": "2024-01-31T18:36:06.681022Z",
     "iopub.status.busy": "2024-01-31T18:36:06.680595Z",
     "iopub.status.idle": "2024-01-31T18:36:06.693057Z",
     "shell.execute_reply": "2024-01-31T18:36:06.691993Z"
    },
    "papermill": {
     "duration": 0.032411,
     "end_time": "2024-01-31T18:36:06.696172",
     "exception": false,
     "start_time": "2024-01-31T18:36:06.663761",
     "status": "completed"
    },
    "tags": []
   },
   "outputs": [
    {
     "name": "stdout",
     "output_type": "stream",
     "text": [
      "<class 'pandas.core.frame.DataFrame'>\n",
      "Index: 85 entries, 6 to 7427\n",
      "Data columns (total 3 columns):\n",
      " #   Column  Non-Null Count  Dtype \n",
      "---  ------  --------------  ----- \n",
      " 0   wins    85 non-null     int64 \n",
      " 1   winner  85 non-null     object\n",
      " 2   loser   85 non-null     object\n",
      "dtypes: int64(1), object(2)\n",
      "memory usage: 2.7+ KB\n"
     ]
    }
   ],
   "source": [
    "ness = ness.rename(columns={'count': 'wins'})\n",
    "ness.info()"
   ]
  },
  {
   "cell_type": "code",
   "execution_count": 22,
   "id": "6e6636c8",
   "metadata": {
    "execution": {
     "iopub.execute_input": "2024-01-31T18:36:06.729161Z",
     "iopub.status.busy": "2024-01-31T18:36:06.728659Z",
     "iopub.status.idle": "2024-01-31T18:36:06.735052Z",
     "shell.execute_reply": "2024-01-31T18:36:06.733855Z"
    },
    "papermill": {
     "duration": 0.025636,
     "end_time": "2024-01-31T18:36:06.737468",
     "exception": false,
     "start_time": "2024-01-31T18:36:06.711832",
     "status": "completed"
    },
    "tags": []
   },
   "outputs": [],
   "source": [
    "ness = ness.drop('winner', axis=1)"
   ]
  },
  {
   "cell_type": "code",
   "execution_count": 23,
   "id": "a8946a87",
   "metadata": {
    "execution": {
     "iopub.execute_input": "2024-01-31T18:36:06.772272Z",
     "iopub.status.busy": "2024-01-31T18:36:06.771788Z",
     "iopub.status.idle": "2024-01-31T18:36:06.781586Z",
     "shell.execute_reply": "2024-01-31T18:36:06.780632Z"
    },
    "papermill": {
     "duration": 0.030405,
     "end_time": "2024-01-31T18:36:06.783853",
     "exception": false,
     "start_time": "2024-01-31T18:36:06.753448",
     "status": "completed"
    },
    "tags": []
   },
   "outputs": [
    {
     "data": {
      "text/plain": [
       "Index(['wins', 'opponent'], dtype='object')"
      ]
     },
     "execution_count": 23,
     "metadata": {},
     "output_type": "execute_result"
    }
   ],
   "source": [
    "ness = ness.rename(columns={'loser': 'opponent'})\n",
    "ness.columns"
   ]
  },
  {
   "cell_type": "code",
   "execution_count": 24,
   "id": "2fb0909a",
   "metadata": {
    "execution": {
     "iopub.execute_input": "2024-01-31T18:36:06.820256Z",
     "iopub.status.busy": "2024-01-31T18:36:06.819872Z",
     "iopub.status.idle": "2024-01-31T18:36:06.832804Z",
     "shell.execute_reply": "2024-01-31T18:36:06.831393Z"
    },
    "papermill": {
     "duration": 0.034068,
     "end_time": "2024-01-31T18:36:06.835463",
     "exception": false,
     "start_time": "2024-01-31T18:36:06.801395",
     "status": "completed"
    },
    "tags": []
   },
   "outputs": [
    {
     "data": {
      "text/plain": [
       "Index(['losses', 'opponent', 'loser'], dtype='object')"
      ]
     },
     "execution_count": 24,
     "metadata": {},
     "output_type": "execute_result"
    }
   ],
   "source": [
    "ness_l = pd.DataFrame(matchups[matchups['loser'] == 'ness'])\n",
    "ness_l = ness_l.rename(columns={'winner': 'opponent', 'count': 'losses'})\n",
    "ness_l.columns"
   ]
  },
  {
   "cell_type": "code",
   "execution_count": 25,
   "id": "ff479041",
   "metadata": {
    "execution": {
     "iopub.execute_input": "2024-01-31T18:36:06.870663Z",
     "iopub.status.busy": "2024-01-31T18:36:06.870244Z",
     "iopub.status.idle": "2024-01-31T18:36:06.896410Z",
     "shell.execute_reply": "2024-01-31T18:36:06.894532Z"
    },
    "papermill": {
     "duration": 0.047607,
     "end_time": "2024-01-31T18:36:06.899577",
     "exception": false,
     "start_time": "2024-01-31T18:36:06.851970",
     "status": "completed"
    },
    "tags": []
   },
   "outputs": [
    {
     "data": {
      "text/html": [
       "<div>\n",
       "<style scoped>\n",
       "    .dataframe tbody tr th:only-of-type {\n",
       "        vertical-align: middle;\n",
       "    }\n",
       "\n",
       "    .dataframe tbody tr th {\n",
       "        vertical-align: top;\n",
       "    }\n",
       "\n",
       "    .dataframe thead th {\n",
       "        text-align: right;\n",
       "    }\n",
       "</style>\n",
       "<table border=\"1\" class=\"dataframe\">\n",
       "  <thead>\n",
       "    <tr style=\"text-align: right;\">\n",
       "      <th></th>\n",
       "      <th>wins</th>\n",
       "      <th>opponent</th>\n",
       "      <th>losses</th>\n",
       "      <th>loser</th>\n",
       "    </tr>\n",
       "  </thead>\n",
       "  <tbody>\n",
       "    <tr>\n",
       "      <th>0</th>\n",
       "      <td>2691</td>\n",
       "      <td>donkeykong</td>\n",
       "      <td>2560</td>\n",
       "      <td>ness</td>\n",
       "    </tr>\n",
       "    <tr>\n",
       "      <th>1</th>\n",
       "      <td>1121</td>\n",
       "      <td>robin</td>\n",
       "      <td>1660</td>\n",
       "      <td>ness</td>\n",
       "    </tr>\n",
       "    <tr>\n",
       "      <th>2</th>\n",
       "      <td>706</td>\n",
       "      <td>iceclimbers</td>\n",
       "      <td>763</td>\n",
       "      <td>ness</td>\n",
       "    </tr>\n",
       "    <tr>\n",
       "      <th>3</th>\n",
       "      <td>890</td>\n",
       "      <td>darkpit</td>\n",
       "      <td>621</td>\n",
       "      <td>ness</td>\n",
       "    </tr>\n",
       "    <tr>\n",
       "      <th>4</th>\n",
       "      <td>3050</td>\n",
       "      <td>captainfalcon</td>\n",
       "      <td>2121</td>\n",
       "      <td>ness</td>\n",
       "    </tr>\n",
       "  </tbody>\n",
       "</table>\n",
       "</div>"
      ],
      "text/plain": [
       "   wins       opponent  losses loser\n",
       "0  2691     donkeykong    2560  ness\n",
       "1  1121          robin    1660  ness\n",
       "2   706    iceclimbers     763  ness\n",
       "3   890        darkpit     621  ness\n",
       "4  3050  captainfalcon    2121  ness"
      ]
     },
     "execution_count": 25,
     "metadata": {},
     "output_type": "execute_result"
    }
   ],
   "source": [
    "full_ness = pd.merge(ness, ness_l, on='opponent', how='inner')\n",
    "full_ness.head()\n"
   ]
  },
  {
   "cell_type": "code",
   "execution_count": 26,
   "id": "078f4308",
   "metadata": {
    "execution": {
     "iopub.execute_input": "2024-01-31T18:36:06.937638Z",
     "iopub.status.busy": "2024-01-31T18:36:06.937215Z",
     "iopub.status.idle": "2024-01-31T18:36:06.945072Z",
     "shell.execute_reply": "2024-01-31T18:36:06.943765Z"
    },
    "papermill": {
     "duration": 0.030713,
     "end_time": "2024-01-31T18:36:06.948156",
     "exception": false,
     "start_time": "2024-01-31T18:36:06.917443",
     "status": "completed"
    },
    "tags": []
   },
   "outputs": [],
   "source": [
    "full_ness = full_ness.drop('loser', axis=1)\n"
   ]
  },
  {
   "cell_type": "code",
   "execution_count": 27,
   "id": "09ad790f",
   "metadata": {
    "execution": {
     "iopub.execute_input": "2024-01-31T18:36:06.982531Z",
     "iopub.status.busy": "2024-01-31T18:36:06.982131Z",
     "iopub.status.idle": "2024-01-31T18:36:06.994316Z",
     "shell.execute_reply": "2024-01-31T18:36:06.993059Z"
    },
    "papermill": {
     "duration": 0.032738,
     "end_time": "2024-01-31T18:36:06.997184",
     "exception": false,
     "start_time": "2024-01-31T18:36:06.964446",
     "status": "completed"
    },
    "tags": []
   },
   "outputs": [
    {
     "data": {
      "text/html": [
       "<div>\n",
       "<style scoped>\n",
       "    .dataframe tbody tr th:only-of-type {\n",
       "        vertical-align: middle;\n",
       "    }\n",
       "\n",
       "    .dataframe tbody tr th {\n",
       "        vertical-align: top;\n",
       "    }\n",
       "\n",
       "    .dataframe thead th {\n",
       "        text-align: right;\n",
       "    }\n",
       "</style>\n",
       "<table border=\"1\" class=\"dataframe\">\n",
       "  <thead>\n",
       "    <tr style=\"text-align: right;\">\n",
       "      <th></th>\n",
       "      <th>wins</th>\n",
       "      <th>opponent</th>\n",
       "      <th>losses</th>\n",
       "    </tr>\n",
       "  </thead>\n",
       "  <tbody>\n",
       "    <tr>\n",
       "      <th>0</th>\n",
       "      <td>2691</td>\n",
       "      <td>donkeykong</td>\n",
       "      <td>2560</td>\n",
       "    </tr>\n",
       "    <tr>\n",
       "      <th>1</th>\n",
       "      <td>1121</td>\n",
       "      <td>robin</td>\n",
       "      <td>1660</td>\n",
       "    </tr>\n",
       "    <tr>\n",
       "      <th>2</th>\n",
       "      <td>706</td>\n",
       "      <td>iceclimbers</td>\n",
       "      <td>763</td>\n",
       "    </tr>\n",
       "    <tr>\n",
       "      <th>3</th>\n",
       "      <td>890</td>\n",
       "      <td>darkpit</td>\n",
       "      <td>621</td>\n",
       "    </tr>\n",
       "    <tr>\n",
       "      <th>4</th>\n",
       "      <td>3050</td>\n",
       "      <td>captainfalcon</td>\n",
       "      <td>2121</td>\n",
       "    </tr>\n",
       "  </tbody>\n",
       "</table>\n",
       "</div>"
      ],
      "text/plain": [
       "   wins       opponent  losses\n",
       "0  2691     donkeykong    2560\n",
       "1  1121          robin    1660\n",
       "2   706    iceclimbers     763\n",
       "3   890        darkpit     621\n",
       "4  3050  captainfalcon    2121"
      ]
     },
     "execution_count": 27,
     "metadata": {},
     "output_type": "execute_result"
    }
   ],
   "source": [
    "full_ness.head()"
   ]
  },
  {
   "cell_type": "code",
   "execution_count": 28,
   "id": "09abe93c",
   "metadata": {
    "execution": {
     "iopub.execute_input": "2024-01-31T18:36:07.035109Z",
     "iopub.status.busy": "2024-01-31T18:36:07.034164Z",
     "iopub.status.idle": "2024-01-31T18:36:07.041877Z",
     "shell.execute_reply": "2024-01-31T18:36:07.040987Z"
    },
    "papermill": {
     "duration": 0.029575,
     "end_time": "2024-01-31T18:36:07.044744",
     "exception": false,
     "start_time": "2024-01-31T18:36:07.015169",
     "status": "completed"
    },
    "tags": []
   },
   "outputs": [],
   "source": [
    "full_ness['total_games'] = full_ness['wins'] + full_ness['losses']\n",
    "full_ness['win_percent'] = full_ness['wins'] / full_ness['total_games']\n"
   ]
  },
  {
   "cell_type": "code",
   "execution_count": 29,
   "id": "b5e5d86c",
   "metadata": {
    "execution": {
     "iopub.execute_input": "2024-01-31T18:36:07.080362Z",
     "iopub.status.busy": "2024-01-31T18:36:07.079905Z",
     "iopub.status.idle": "2024-01-31T18:36:07.095396Z",
     "shell.execute_reply": "2024-01-31T18:36:07.093853Z"
    },
    "papermill": {
     "duration": 0.036338,
     "end_time": "2024-01-31T18:36:07.098245",
     "exception": false,
     "start_time": "2024-01-31T18:36:07.061907",
     "status": "completed"
    },
    "tags": []
   },
   "outputs": [
    {
     "data": {
      "text/html": [
       "<div>\n",
       "<style scoped>\n",
       "    .dataframe tbody tr th:only-of-type {\n",
       "        vertical-align: middle;\n",
       "    }\n",
       "\n",
       "    .dataframe tbody tr th {\n",
       "        vertical-align: top;\n",
       "    }\n",
       "\n",
       "    .dataframe thead th {\n",
       "        text-align: right;\n",
       "    }\n",
       "</style>\n",
       "<table border=\"1\" class=\"dataframe\">\n",
       "  <thead>\n",
       "    <tr style=\"text-align: right;\">\n",
       "      <th></th>\n",
       "      <th>wins</th>\n",
       "      <th>opponent</th>\n",
       "      <th>losses</th>\n",
       "      <th>total_games</th>\n",
       "      <th>win_percent</th>\n",
       "    </tr>\n",
       "  </thead>\n",
       "  <tbody>\n",
       "    <tr>\n",
       "      <th>0</th>\n",
       "      <td>2691</td>\n",
       "      <td>donkeykong</td>\n",
       "      <td>2560</td>\n",
       "      <td>5251</td>\n",
       "      <td>0.512474</td>\n",
       "    </tr>\n",
       "    <tr>\n",
       "      <th>1</th>\n",
       "      <td>1121</td>\n",
       "      <td>robin</td>\n",
       "      <td>1660</td>\n",
       "      <td>2781</td>\n",
       "      <td>0.403092</td>\n",
       "    </tr>\n",
       "    <tr>\n",
       "      <th>2</th>\n",
       "      <td>706</td>\n",
       "      <td>iceclimbers</td>\n",
       "      <td>763</td>\n",
       "      <td>1469</td>\n",
       "      <td>0.480599</td>\n",
       "    </tr>\n",
       "    <tr>\n",
       "      <th>3</th>\n",
       "      <td>890</td>\n",
       "      <td>darkpit</td>\n",
       "      <td>621</td>\n",
       "      <td>1511</td>\n",
       "      <td>0.589014</td>\n",
       "    </tr>\n",
       "    <tr>\n",
       "      <th>4</th>\n",
       "      <td>3050</td>\n",
       "      <td>captainfalcon</td>\n",
       "      <td>2121</td>\n",
       "      <td>5171</td>\n",
       "      <td>0.589828</td>\n",
       "    </tr>\n",
       "  </tbody>\n",
       "</table>\n",
       "</div>"
      ],
      "text/plain": [
       "   wins       opponent  losses  total_games  win_percent\n",
       "0  2691     donkeykong    2560         5251     0.512474\n",
       "1  1121          robin    1660         2781     0.403092\n",
       "2   706    iceclimbers     763         1469     0.480599\n",
       "3   890        darkpit     621         1511     0.589014\n",
       "4  3050  captainfalcon    2121         5171     0.589828"
      ]
     },
     "execution_count": 29,
     "metadata": {},
     "output_type": "execute_result"
    }
   ],
   "source": [
    "full_ness.head()"
   ]
  },
  {
   "cell_type": "code",
   "execution_count": 30,
   "id": "31baa216",
   "metadata": {
    "execution": {
     "iopub.execute_input": "2024-01-31T18:36:07.137458Z",
     "iopub.status.busy": "2024-01-31T18:36:07.136388Z",
     "iopub.status.idle": "2024-01-31T18:36:07.153551Z",
     "shell.execute_reply": "2024-01-31T18:36:07.152292Z"
    },
    "papermill": {
     "duration": 0.040573,
     "end_time": "2024-01-31T18:36:07.156689",
     "exception": false,
     "start_time": "2024-01-31T18:36:07.116116",
     "status": "completed"
    },
    "tags": []
   },
   "outputs": [
    {
     "name": "stdout",
     "output_type": "stream",
     "text": [
      "    wins    opponent  losses  total_games  win_percent\n",
      "23   265       simon     400          665     0.398496\n",
      "1   1121       robin    1660         2781     0.403092\n",
      "44   681     richter    1001         1682     0.404875\n",
      "68   696    duckhunt     990         1686     0.412811\n",
      "81  2533       steve    3477         6010     0.421464\n",
      "..   ...         ...     ...          ...          ...\n",
      "46  2746  jigglypuff    1839         4585     0.598909\n",
      "75  4796       joker    3170         7966     0.602059\n",
      "59   587       sheik     378          965     0.608290\n",
      "27  2468       falco    1582         4050     0.609383\n",
      "30  1809         fox    1041         2850     0.634737\n",
      "\n",
      "[85 rows x 5 columns]\n"
     ]
    }
   ],
   "source": [
    "print(full_ness.sort_values(by='win_percent'))"
   ]
  },
  {
   "cell_type": "code",
   "execution_count": 31,
   "id": "baae7459",
   "metadata": {
    "execution": {
     "iopub.execute_input": "2024-01-31T18:36:07.195793Z",
     "iopub.status.busy": "2024-01-31T18:36:07.195324Z",
     "iopub.status.idle": "2024-01-31T18:36:07.226223Z",
     "shell.execute_reply": "2024-01-31T18:36:07.224994Z"
    },
    "papermill": {
     "duration": 0.053798,
     "end_time": "2024-01-31T18:36:07.228961",
     "exception": false,
     "start_time": "2024-01-31T18:36:07.175163",
     "status": "completed"
    },
    "tags": []
   },
   "outputs": [
    {
     "data": {
      "text/html": [
       "<div>\n",
       "<style scoped>\n",
       "    .dataframe tbody tr th:only-of-type {\n",
       "        vertical-align: middle;\n",
       "    }\n",
       "\n",
       "    .dataframe tbody tr th {\n",
       "        vertical-align: top;\n",
       "    }\n",
       "\n",
       "    .dataframe thead th {\n",
       "        text-align: right;\n",
       "    }\n",
       "</style>\n",
       "<table border=\"1\" class=\"dataframe\">\n",
       "  <thead>\n",
       "    <tr style=\"text-align: right;\">\n",
       "      <th></th>\n",
       "      <th>wins</th>\n",
       "      <th>opponent</th>\n",
       "      <th>losses</th>\n",
       "      <th>total_games</th>\n",
       "      <th>win_percent</th>\n",
       "    </tr>\n",
       "  </thead>\n",
       "  <tbody>\n",
       "    <tr>\n",
       "      <th>0</th>\n",
       "      <td>1072</td>\n",
       "      <td>lucina</td>\n",
       "      <td>669</td>\n",
       "      <td>1741</td>\n",
       "      <td>0.615738</td>\n",
       "    </tr>\n",
       "    <tr>\n",
       "      <th>1</th>\n",
       "      <td>1244</td>\n",
       "      <td>snake</td>\n",
       "      <td>1593</td>\n",
       "      <td>2837</td>\n",
       "      <td>0.438491</td>\n",
       "    </tr>\n",
       "    <tr>\n",
       "      <th>2</th>\n",
       "      <td>1262</td>\n",
       "      <td>kingkrool</td>\n",
       "      <td>1267</td>\n",
       "      <td>2529</td>\n",
       "      <td>0.499011</td>\n",
       "    </tr>\n",
       "    <tr>\n",
       "      <th>3</th>\n",
       "      <td>1440</td>\n",
       "      <td>captainfalcon</td>\n",
       "      <td>1331</td>\n",
       "      <td>2771</td>\n",
       "      <td>0.519668</td>\n",
       "    </tr>\n",
       "    <tr>\n",
       "      <th>4</th>\n",
       "      <td>901</td>\n",
       "      <td>littlemac</td>\n",
       "      <td>772</td>\n",
       "      <td>1673</td>\n",
       "      <td>0.538553</td>\n",
       "    </tr>\n",
       "  </tbody>\n",
       "</table>\n",
       "</div>"
      ],
      "text/plain": [
       "   wins       opponent  losses  total_games  win_percent\n",
       "0  1072         lucina     669         1741     0.615738\n",
       "1  1244          snake    1593         2837     0.438491\n",
       "2  1262      kingkrool    1267         2529     0.499011\n",
       "3  1440  captainfalcon    1331         2771     0.519668\n",
       "4   901      littlemac     772         1673     0.538553"
      ]
     },
     "execution_count": 31,
     "metadata": {},
     "output_type": "execute_result"
    }
   ],
   "source": [
    "incineroar = pd.DataFrame(matchups[matchups['winner'] == 'incineroar'])\n",
    "incineroar = incineroar.rename(columns={'count': 'wins'})\n",
    "incineroar = incineroar.drop('winner', axis=1)\n",
    "incineroar = incineroar.rename(columns={'loser': 'opponent'})\n",
    "incineroar_l = pd.DataFrame(matchups[matchups['loser'] == 'incineroar'])\n",
    "incineroar_l = incineroar_l.rename(columns={'winner': 'opponent', 'count': 'losses'})\n",
    "full_incineroar = pd.merge(incineroar, incineroar_l, on='opponent', how='inner')\n",
    "full_incineroar = full_incineroar.drop('loser', axis=1)\n",
    "full_incineroar['total_games'] = full_incineroar['wins'] + full_incineroar['losses']\n",
    "full_incineroar['win_percent'] = full_incineroar['wins'] / full_incineroar['total_games']\n",
    "full_incineroar.head()"
   ]
  },
  {
   "cell_type": "code",
   "execution_count": 32,
   "id": "eecff672",
   "metadata": {
    "execution": {
     "iopub.execute_input": "2024-01-31T18:36:07.267885Z",
     "iopub.status.busy": "2024-01-31T18:36:07.267447Z",
     "iopub.status.idle": "2024-01-31T18:36:07.278135Z",
     "shell.execute_reply": "2024-01-31T18:36:07.277279Z"
    },
    "papermill": {
     "duration": 0.033822,
     "end_time": "2024-01-31T18:36:07.281790",
     "exception": false,
     "start_time": "2024-01-31T18:36:07.247968",
     "status": "completed"
    },
    "tags": []
   },
   "outputs": [
    {
     "name": "stdout",
     "output_type": "stream",
     "text": [
      "    wins         opponent  losses  total_games  win_percent\n",
      "63    84            simon     158          242     0.347107\n",
      "23   230          richter     392          622     0.369775\n",
      "51   426            robin     678         1104     0.385870\n",
      "79   550           minmin     846         1396     0.393983\n",
      "80   999            steve    1438         2437     0.409930\n",
      "12   952       kingdedede    1355         2307     0.412657\n",
      "21   235         duckhunt     333          568     0.413732\n",
      "72   190  miiswordfighter     257          447     0.425056\n",
      "26   519              ken     702         1221     0.425061\n",
      "25   530           ridley     693         1223     0.433361\n",
      "1   1244            snake    1593         2837     0.438491\n",
      "49   790              ike    1003         1793     0.440602\n",
      "70   453         bowserjr     564         1017     0.445428\n",
      "60   409          drmario     509          918     0.445534\n",
      "55   683           pacman     848         1531     0.446114\n",
      "38   295        darksamus     365          660     0.446970\n",
      "66   297        miigunner     366          663     0.447964\n",
      "59   793   mrgameandwatch     972         1765     0.449292\n",
      "47  1363              rob    1656         3019     0.451474\n",
      "64   615    wiifittrainer     739         1354     0.454210\n",
      "83   789           kazuya     944         1733     0.455280\n",
      "35  1433             ness    1710         3143     0.455934\n",
      "41   732            samus     873         1605     0.456075\n",
      "20   430         isabelle     499          929     0.462863\n",
      "10  1274       donkeykong    1471         2745     0.464117\n"
     ]
    }
   ],
   "source": [
    "print(full_incineroar.sort_values(by='win_percent').head(25))"
   ]
  },
  {
   "cell_type": "code",
   "execution_count": 33,
   "id": "d26bf54f",
   "metadata": {
    "execution": {
     "iopub.execute_input": "2024-01-31T18:36:07.320826Z",
     "iopub.status.busy": "2024-01-31T18:36:07.320353Z",
     "iopub.status.idle": "2024-01-31T18:36:07.332004Z",
     "shell.execute_reply": "2024-01-31T18:36:07.330537Z"
    },
    "papermill": {
     "duration": 0.034039,
     "end_time": "2024-01-31T18:36:07.335095",
     "exception": false,
     "start_time": "2024-01-31T18:36:07.301056",
     "status": "completed"
    },
    "tags": []
   },
   "outputs": [
    {
     "name": "stdout",
     "output_type": "stream",
     "text": [
      "    wins    opponent  losses  total_games  win_percent\n",
      "16   471       marth     285          756     0.623016\n",
      "0   1072      lucina     669         1741     0.615738\n",
      "67   369       sheik     245          614     0.600977\n",
      "43   375     lucario     272          647     0.579598\n",
      "81   880   sephiroth     645         1525     0.577049\n",
      "46   872         fox     641         1513     0.576338\n",
      "68   237       daisy     175          412     0.575243\n",
      "14  1143         roy     849         1992     0.573795\n",
      "78  1138      byleth     853         1991     0.571572\n",
      "50   464      corrin     359          823     0.563791\n",
      "53   858       kirby     668         1526     0.562254\n",
      "61   347     darkpit     274          621     0.558776\n",
      "82  1465        pyra    1173         2638     0.555345\n",
      "44  1072     pikachu     866         1938     0.553148\n",
      "32  1385       mario    1155         2540     0.545276\n",
      "19   507       chrom     434          941     0.538789\n",
      "30  1149       falco     984         2133     0.538678\n",
      "4    901   littlemac     772         1673     0.538553\n",
      "18   285         pit     245          530     0.537736\n",
      "29  1691       cloud    1459         3150     0.536825\n",
      "73  1892       joker    1641         3533     0.535522\n",
      "39  1146  jigglypuff    1005         2151     0.532775\n",
      "74   290    rosalina     257          547     0.530165\n",
      "31   690   younglink     613         1303     0.529547\n",
      "33  1195        link    1068         2263     0.528060\n"
     ]
    }
   ],
   "source": [
    "print(full_incineroar.sort_values(by='win_percent', ascending=False).head(25))"
   ]
  },
  {
   "cell_type": "code",
   "execution_count": 34,
   "id": "641ebfa1",
   "metadata": {
    "execution": {
     "iopub.execute_input": "2024-01-31T18:36:07.373248Z",
     "iopub.status.busy": "2024-01-31T18:36:07.372796Z",
     "iopub.status.idle": "2024-01-31T18:36:07.381445Z",
     "shell.execute_reply": "2024-01-31T18:36:07.380597Z"
    },
    "papermill": {
     "duration": 0.03088,
     "end_time": "2024-01-31T18:36:07.383796",
     "exception": false,
     "start_time": "2024-01-31T18:36:07.352916",
     "status": "completed"
    },
    "tags": []
   },
   "outputs": [],
   "source": [
    "def mu_chart(character, matchups):\n",
    "    df = pd.DataFrame(matchups[matchups['winner'] == character])\n",
    "    \n",
    "    df = df.rename(columns={'count': 'wins'})\n",
    "    df = df.drop('winner', axis=1)\n",
    "    df = df.rename(columns={'loser': 'opponent'})\n",
    "    df_l = pd.DataFrame(matchups[matchups['loser'] == character])\n",
    "    df_l = df_l.rename(columns={'winner': 'opponent', 'count': 'losses'})\n",
    "    full_df = pd.merge(df, df_l, on='opponent', how='inner')\n",
    "    full_df = full_df.drop('loser', axis=1)\n",
    "    full_df['total_games'] = full_df['wins'] + full_df['losses']\n",
    "    full_df['win_percent'] = full_df['wins'] / full_df['total_games']\n",
    "    return full_df"
   ]
  },
  {
   "cell_type": "code",
   "execution_count": 35,
   "id": "a3b23186",
   "metadata": {
    "execution": {
     "iopub.execute_input": "2024-01-31T18:36:07.422310Z",
     "iopub.status.busy": "2024-01-31T18:36:07.421144Z",
     "iopub.status.idle": "2024-01-31T18:36:07.447335Z",
     "shell.execute_reply": "2024-01-31T18:36:07.445793Z"
    },
    "papermill": {
     "duration": 0.048841,
     "end_time": "2024-01-31T18:36:07.450453",
     "exception": false,
     "start_time": "2024-01-31T18:36:07.401612",
     "status": "completed"
    },
    "tags": []
   },
   "outputs": [
    {
     "name": "stdout",
     "output_type": "stream",
     "text": [
      "   wins    opponent  losses  total_games  win_percent\n",
      "0   218         pit     116          334     0.652695\n",
      "1  1431      bowser    1109         2540     0.563386\n",
      "2   536   bayonetta     662         1198     0.447412\n",
      "3   622       zelda     594         1216     0.511513\n",
      "4   267  miibrawler     262          529     0.504726\n",
      "    wins         opponent  losses  total_games  win_percent\n",
      "80   771            steve    1165         1936     0.398244\n",
      "71   172  miiswordfighter     251          423     0.406619\n",
      "40   922            snake    1263         2185     0.421968\n",
      "55    93            simon     121          214     0.434579\n",
      "58   396            robin     508          904     0.438053\n",
      "2    536        bayonetta     662         1198     0.447412\n",
      "63   373              ken     449          822     0.453771\n",
      "38   309        darksamus     368          677     0.456425\n",
      "53   605           pacman     685         1290     0.468992\n",
      "33   686            samus     772         1458     0.470508\n",
      "18  1238         palutena    1384         2622     0.472159\n",
      "15   266         duckhunt     296          562     0.473310\n",
      "57   333         isabelle     365          698     0.477077\n",
      "20   320          richter     347          667     0.479760\n",
      "41   297            peach     322          619     0.479806\n",
      "60   351          megaman     374          725     0.484138\n",
      "45   656              ike     685         1341     0.489187\n",
      "6   1160              rob    1200         2360     0.491525\n",
      "50   328          drmario     339          667     0.491754\n",
      "79   648           minmin     658         1306     0.496172\n",
      "22   953            yoshi     965         1918     0.496872\n",
      "67   207              ryu     209          416     0.497596\n",
      "31   426         toonlink     425          851     0.500588\n",
      "77   934            terry     928         1862     0.501611\n",
      "47   217          lucario     215          432     0.502315\n"
     ]
    }
   ],
   "source": [
    "bowserjr = mu_chart('bowserjr', matchups)\n",
    "print(bowserjr.head())\n",
    "print(bowserjr.sort_values(by='win_percent').head(25))"
   ]
  },
  {
   "cell_type": "code",
   "execution_count": 36,
   "id": "25295654",
   "metadata": {
    "execution": {
     "iopub.execute_input": "2024-01-31T18:36:07.490404Z",
     "iopub.status.busy": "2024-01-31T18:36:07.488963Z",
     "iopub.status.idle": "2024-01-31T18:36:08.599406Z",
     "shell.execute_reply": "2024-01-31T18:36:08.598271Z"
    },
    "papermill": {
     "duration": 1.133622,
     "end_time": "2024-01-31T18:36:08.602279",
     "exception": false,
     "start_time": "2024-01-31T18:36:07.468657",
     "status": "completed"
    },
    "tags": []
   },
   "outputs": [],
   "source": [
    "characters = matchups['winner'].unique()\n",
    "all_mu_chart = {}\n",
    "for character in characters:\n",
    "    all_mu_chart[character] = mu_chart(character, matchups)\n",
    "    all_mu_chart[character].to_csv(f'/kaggle/working/{character}.csv')\n",
    "    "
   ]
  },
  {
   "cell_type": "code",
   "execution_count": null,
   "id": "29102adc",
   "metadata": {
    "execution": {
     "iopub.execute_input": "2024-01-31T17:50:28.816472Z",
     "iopub.status.busy": "2024-01-31T17:50:28.815920Z",
     "iopub.status.idle": "2024-01-31T17:50:28.855918Z",
     "shell.execute_reply": "2024-01-31T17:50:28.854209Z",
     "shell.execute_reply.started": "2024-01-31T17:50:28.816419Z"
    },
    "papermill": {
     "duration": 0.017754,
     "end_time": "2024-01-31T18:36:08.638751",
     "exception": false,
     "start_time": "2024-01-31T18:36:08.620997",
     "status": "completed"
    },
    "tags": []
   },
   "outputs": [],
   "source": []
  }
 ],
 "metadata": {
  "kaggle": {
   "accelerator": "none",
   "dataSources": [
    {
     "datasetId": 2417478,
     "sourceId": 5284501,
     "sourceType": "datasetVersion"
    }
   ],
   "dockerImageVersionId": 30579,
   "isGpuEnabled": false,
   "isInternetEnabled": true,
   "language": "python",
   "sourceType": "notebook"
  },
  "kernelspec": {
   "display_name": "Python 3",
   "language": "python",
   "name": "python3"
  },
  "language_info": {
   "codemirror_mode": {
    "name": "ipython",
    "version": 3
   },
   "file_extension": ".py",
   "mimetype": "text/x-python",
   "name": "python",
   "nbconvert_exporter": "python",
   "pygments_lexer": "ipython3",
   "version": "3.10.12"
  },
  "papermill": {
   "default_parameters": {},
   "duration": 333.513447,
   "end_time": "2024-01-31T18:36:11.384003",
   "environment_variables": {},
   "exception": null,
   "input_path": "__notebook__.ipynb",
   "output_path": "__notebook__.ipynb",
   "parameters": {},
   "start_time": "2024-01-31T18:30:37.870556",
   "version": "2.4.0"
  }
 },
 "nbformat": 4,
 "nbformat_minor": 5
}
